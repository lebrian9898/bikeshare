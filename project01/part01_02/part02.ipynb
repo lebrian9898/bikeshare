{
 "cells": [
  {
   "cell_type": "markdown",
   "metadata": {},
   "source": [
    "# Project01 Part 2"
   ]
  },
  {
   "cell_type": "markdown",
   "metadata": {},
   "source": [
    "## 1 Bandits"
   ]
  },
  {
   "cell_type": "markdown",
   "metadata": {},
   "source": [
    "### 1.1 Formalizing the problem as a multi-armed bandits problem"
   ]
  },
  {
   "cell_type": "markdown",
   "metadata": {},
   "source": [
    "GOAL: Maximize the number of flyers given out at one street corner, over some number of days for which the problem will take place."
   ]
  },
  {
   "cell_type": "markdown",
   "metadata": {},
   "source": [
    "I want my model to encapture exploration and exploitation. In context of the problem, I want my model to be able to explore the best intersection and give out the most flyers possible. "
   ]
  },
  {
   "cell_type": "markdown",
   "metadata": {},
   "source": [
    "The arms will be the intersections from the candidate list of intersections. The action A, \"pulling an arm\", will represent going to the intersection and giving out flyers under the uniform probability distribution P. The reward R will be how many flyers are handed out and will be modeled as bounded random variable from [0, R]."
   ]
  },
  {
   "cell_type": "markdown",
   "metadata": {},
   "source": [
    "The time horizon will be from 10am-2pm, 4 hours total. I chose this time horizon because I believe the time of the day fully encaptures the pedestrians getting a lunch meal."
   ]
  },
  {
   "cell_type": "markdown",
   "metadata": {},
   "source": [
    "Assumptions: The model process will have N=1000 trials.\n",
    "The errors in the model is assumed to be random and follow the normal distribution.\n",
    "The recruiter will not know the probability of the reward from each intersection.\n",
    "The number of trials must be greater than the number of intersections K (N>K).\n",
    "The samples must be generated randomly. \n",
    "The intersections are independent from each other, meaning no intersection will effect the rewards of the other."
   ]
  },
  {
   "cell_type": "markdown",
   "metadata": {},
   "source": [
    "I expect the statistical model to hold the number of N trials, but it will eventually learn the probabilities, so that initial assumption will not hold. \n",
    "This way, the recruiter will be able to exploit the best intersection. \n",
    "For the number of trials greater than the number of intersections, I expect that to hold because otherwise, the recruiter will not be able to explore all possible intersections.\n",
    "The random assumption should still hold because if not, the model would not follow the statistical process, as well as the independency assumption. \n",
    "Gathering more data will allow the model errors to be random and normal."
   ]
  },
  {
   "cell_type": "markdown",
   "metadata": {},
   "source": [
    "For each intersection, I will be keeping track of the max reward so far. As I obtain a single reward from an intersection, my regret will be the max reward of that intersection minus the reward I just obtained."
   ]
  },
  {
   "cell_type": "markdown",
   "metadata": {},
   "source": [
    "## Importing libraries and tools"
   ]
  },
  {
   "cell_type": "code",
   "execution_count": 1,
   "metadata": {},
   "outputs": [],
   "source": [
    "import pandas as pd\n",
    "import numpy as np\n",
    "import matplotlib.pyplot as plt\n",
    "from scipy import stats\n",
    "import seaborn as sns\n",
    "from datetime import datetime, date\n",
    "from statsmodels.stats.proportion import proportion_confint\n",
    "import random"
   ]
  },
  {
   "cell_type": "code",
   "execution_count": 2,
   "metadata": {},
   "outputs": [],
   "source": [
    "import warnings\n",
    "warnings.filterwarnings(\"ignore\")"
   ]
  },
  {
   "cell_type": "markdown",
   "metadata": {},
   "source": [
    "## Importing datasets"
   ]
  },
  {
   "cell_type": "code",
   "execution_count": 3,
   "metadata": {},
   "outputs": [],
   "source": [
    "ny_data = pd.read_csv('data/ny.csv')\n",
    "chicago_data = pd.read_csv('data/chicago.csv')\n",
    "dc_data = pd.read_csv('data/dc.csv')\n"
   ]
  },
  {
   "cell_type": "code",
   "execution_count": 4,
   "metadata": {
    "scrolled": true
   },
   "outputs": [
    {
     "data": {
      "text/html": [
       "<div>\n",
       "<style scoped>\n",
       "    .dataframe tbody tr th:only-of-type {\n",
       "        vertical-align: middle;\n",
       "    }\n",
       "\n",
       "    .dataframe tbody tr th {\n",
       "        vertical-align: top;\n",
       "    }\n",
       "\n",
       "    .dataframe thead th {\n",
       "        text-align: right;\n",
       "    }\n",
       "</style>\n",
       "<table border=\"1\" class=\"dataframe\">\n",
       "  <thead>\n",
       "    <tr style=\"text-align: right;\">\n",
       "      <th></th>\n",
       "      <th>tripduration</th>\n",
       "      <th>starttime</th>\n",
       "      <th>stoptime</th>\n",
       "      <th>start station id</th>\n",
       "      <th>start station name</th>\n",
       "      <th>start station latitude</th>\n",
       "      <th>start station longitude</th>\n",
       "      <th>end station id</th>\n",
       "      <th>end station name</th>\n",
       "      <th>end station latitude</th>\n",
       "      <th>end station longitude</th>\n",
       "      <th>bikeid</th>\n",
       "      <th>usertype</th>\n",
       "      <th>birth year</th>\n",
       "      <th>gender</th>\n",
       "    </tr>\n",
       "  </thead>\n",
       "  <tbody>\n",
       "    <tr>\n",
       "      <th>0</th>\n",
       "      <td>839</td>\n",
       "      <td>1/1/2016 00:09:55</td>\n",
       "      <td>1/1/2016 00:23:54</td>\n",
       "      <td>532</td>\n",
       "      <td>S 5 Pl &amp; S 4 St</td>\n",
       "      <td>40.710451</td>\n",
       "      <td>-73.960876</td>\n",
       "      <td>401</td>\n",
       "      <td>Allen St &amp; Rivington St</td>\n",
       "      <td>40.720196</td>\n",
       "      <td>-73.989978</td>\n",
       "      <td>17109</td>\n",
       "      <td>Customer</td>\n",
       "      <td>NaN</td>\n",
       "      <td>0</td>\n",
       "    </tr>\n",
       "    <tr>\n",
       "      <th>1</th>\n",
       "      <td>686</td>\n",
       "      <td>1/1/2016 00:21:17</td>\n",
       "      <td>1/1/2016 00:32:44</td>\n",
       "      <td>3143</td>\n",
       "      <td>5 Ave &amp; E 78 St</td>\n",
       "      <td>40.776829</td>\n",
       "      <td>-73.963888</td>\n",
       "      <td>3132</td>\n",
       "      <td>E 59 St &amp; Madison Ave</td>\n",
       "      <td>40.763505</td>\n",
       "      <td>-73.971092</td>\n",
       "      <td>23514</td>\n",
       "      <td>Subscriber</td>\n",
       "      <td>1960.0</td>\n",
       "      <td>1</td>\n",
       "    </tr>\n",
       "    <tr>\n",
       "      <th>2</th>\n",
       "      <td>315</td>\n",
       "      <td>1/1/2016 00:33:11</td>\n",
       "      <td>1/1/2016 00:38:26</td>\n",
       "      <td>3164</td>\n",
       "      <td>Columbus Ave &amp; W 72 St</td>\n",
       "      <td>40.777057</td>\n",
       "      <td>-73.978985</td>\n",
       "      <td>3178</td>\n",
       "      <td>Riverside Dr &amp; W 78 St</td>\n",
       "      <td>40.784145</td>\n",
       "      <td>-73.983625</td>\n",
       "      <td>14536</td>\n",
       "      <td>Subscriber</td>\n",
       "      <td>1971.0</td>\n",
       "      <td>1</td>\n",
       "    </tr>\n",
       "    <tr>\n",
       "      <th>3</th>\n",
       "      <td>739</td>\n",
       "      <td>1/1/2016 00:40:51</td>\n",
       "      <td>1/1/2016 00:53:11</td>\n",
       "      <td>223</td>\n",
       "      <td>W 13 St &amp; 7 Ave</td>\n",
       "      <td>40.737815</td>\n",
       "      <td>-73.999947</td>\n",
       "      <td>276</td>\n",
       "      <td>Duane St &amp; Greenwich St</td>\n",
       "      <td>40.717488</td>\n",
       "      <td>-74.010455</td>\n",
       "      <td>24062</td>\n",
       "      <td>Subscriber</td>\n",
       "      <td>1969.0</td>\n",
       "      <td>1</td>\n",
       "    </tr>\n",
       "    <tr>\n",
       "      <th>4</th>\n",
       "      <td>1253</td>\n",
       "      <td>1/1/2016 00:44:16</td>\n",
       "      <td>1/1/2016 01:05:09</td>\n",
       "      <td>484</td>\n",
       "      <td>W 44 St &amp; 5 Ave</td>\n",
       "      <td>40.755003</td>\n",
       "      <td>-73.980144</td>\n",
       "      <td>151</td>\n",
       "      <td>Cleveland Pl &amp; Spring St</td>\n",
       "      <td>40.722104</td>\n",
       "      <td>-73.997249</td>\n",
       "      <td>16380</td>\n",
       "      <td>Customer</td>\n",
       "      <td>NaN</td>\n",
       "      <td>0</td>\n",
       "    </tr>\n",
       "  </tbody>\n",
       "</table>\n",
       "</div>"
      ],
      "text/plain": [
       "   tripduration          starttime           stoptime  start station id  \\\n",
       "0           839  1/1/2016 00:09:55  1/1/2016 00:23:54               532   \n",
       "1           686  1/1/2016 00:21:17  1/1/2016 00:32:44              3143   \n",
       "2           315  1/1/2016 00:33:11  1/1/2016 00:38:26              3164   \n",
       "3           739  1/1/2016 00:40:51  1/1/2016 00:53:11               223   \n",
       "4          1253  1/1/2016 00:44:16  1/1/2016 01:05:09               484   \n",
       "\n",
       "       start station name  start station latitude  start station longitude  \\\n",
       "0         S 5 Pl & S 4 St               40.710451               -73.960876   \n",
       "1         5 Ave & E 78 St               40.776829               -73.963888   \n",
       "2  Columbus Ave & W 72 St               40.777057               -73.978985   \n",
       "3         W 13 St & 7 Ave               40.737815               -73.999947   \n",
       "4         W 44 St & 5 Ave               40.755003               -73.980144   \n",
       "\n",
       "   end station id          end station name  end station latitude  \\\n",
       "0             401   Allen St & Rivington St             40.720196   \n",
       "1            3132     E 59 St & Madison Ave             40.763505   \n",
       "2            3178    Riverside Dr & W 78 St             40.784145   \n",
       "3             276   Duane St & Greenwich St             40.717488   \n",
       "4             151  Cleveland Pl & Spring St             40.722104   \n",
       "\n",
       "   end station longitude  bikeid    usertype  birth year  gender  \n",
       "0             -73.989978   17109    Customer         NaN       0  \n",
       "1             -73.971092   23514  Subscriber      1960.0       1  \n",
       "2             -73.983625   14536  Subscriber      1971.0       1  \n",
       "3             -74.010455   24062  Subscriber      1969.0       1  \n",
       "4             -73.997249   16380    Customer         NaN       0  "
      ]
     },
     "execution_count": 4,
     "metadata": {},
     "output_type": "execute_result"
    }
   ],
   "source": [
    "ny_data.head()"
   ]
  },
  {
   "cell_type": "code",
   "execution_count": 5,
   "metadata": {},
   "outputs": [
    {
     "data": {
      "text/html": [
       "<div>\n",
       "<style scoped>\n",
       "    .dataframe tbody tr th:only-of-type {\n",
       "        vertical-align: middle;\n",
       "    }\n",
       "\n",
       "    .dataframe tbody tr th {\n",
       "        vertical-align: top;\n",
       "    }\n",
       "\n",
       "    .dataframe thead th {\n",
       "        text-align: right;\n",
       "    }\n",
       "</style>\n",
       "<table border=\"1\" class=\"dataframe\">\n",
       "  <thead>\n",
       "    <tr style=\"text-align: right;\">\n",
       "      <th></th>\n",
       "      <th>trip_id</th>\n",
       "      <th>starttime</th>\n",
       "      <th>stoptime</th>\n",
       "      <th>bikeid</th>\n",
       "      <th>tripduration</th>\n",
       "      <th>from_station_id</th>\n",
       "      <th>from_station_name</th>\n",
       "      <th>to_station_id</th>\n",
       "      <th>to_station_name</th>\n",
       "      <th>usertype</th>\n",
       "      <th>gender</th>\n",
       "      <th>birthyear</th>\n",
       "    </tr>\n",
       "  </thead>\n",
       "  <tbody>\n",
       "    <tr>\n",
       "      <th>0</th>\n",
       "      <td>9080545</td>\n",
       "      <td>3/31/2016 23:30</td>\n",
       "      <td>3/31/2016 23:46</td>\n",
       "      <td>2295</td>\n",
       "      <td>926</td>\n",
       "      <td>156</td>\n",
       "      <td>Clark St &amp; Wellington Ave</td>\n",
       "      <td>166</td>\n",
       "      <td>Ashland Ave &amp; Wrightwood Ave</td>\n",
       "      <td>Subscriber</td>\n",
       "      <td>Male</td>\n",
       "      <td>1990.0</td>\n",
       "    </tr>\n",
       "    <tr>\n",
       "      <th>1</th>\n",
       "      <td>9080521</td>\n",
       "      <td>3/31/2016 22:59</td>\n",
       "      <td>3/31/2016 23:02</td>\n",
       "      <td>3439</td>\n",
       "      <td>198</td>\n",
       "      <td>259</td>\n",
       "      <td>California Ave &amp; Francis Pl</td>\n",
       "      <td>276</td>\n",
       "      <td>California Ave &amp; North Ave</td>\n",
       "      <td>Subscriber</td>\n",
       "      <td>Male</td>\n",
       "      <td>1974.0</td>\n",
       "    </tr>\n",
       "    <tr>\n",
       "      <th>2</th>\n",
       "      <td>9080479</td>\n",
       "      <td>3/31/2016 22:24</td>\n",
       "      <td>3/31/2016 22:26</td>\n",
       "      <td>4337</td>\n",
       "      <td>124</td>\n",
       "      <td>344</td>\n",
       "      <td>Ravenswood Ave &amp; Lawrence Ave</td>\n",
       "      <td>242</td>\n",
       "      <td>Damen Ave &amp; Leland Ave</td>\n",
       "      <td>Subscriber</td>\n",
       "      <td>Female</td>\n",
       "      <td>1992.0</td>\n",
       "    </tr>\n",
       "    <tr>\n",
       "      <th>3</th>\n",
       "      <td>9080475</td>\n",
       "      <td>3/31/2016 22:22</td>\n",
       "      <td>3/31/2016 22:41</td>\n",
       "      <td>3760</td>\n",
       "      <td>1181</td>\n",
       "      <td>318</td>\n",
       "      <td>Southport Ave &amp; Irving Park Rd</td>\n",
       "      <td>458</td>\n",
       "      <td>Broadway &amp; Thorndale Ave</td>\n",
       "      <td>Subscriber</td>\n",
       "      <td>Female</td>\n",
       "      <td>1979.0</td>\n",
       "    </tr>\n",
       "    <tr>\n",
       "      <th>4</th>\n",
       "      <td>9080443</td>\n",
       "      <td>3/31/2016 22:08</td>\n",
       "      <td>3/31/2016 22:19</td>\n",
       "      <td>1270</td>\n",
       "      <td>656</td>\n",
       "      <td>345</td>\n",
       "      <td>Lake Park Ave &amp; 56th St</td>\n",
       "      <td>426</td>\n",
       "      <td>Ellis Ave &amp; 60th St</td>\n",
       "      <td>Subscriber</td>\n",
       "      <td>Female</td>\n",
       "      <td>1997.0</td>\n",
       "    </tr>\n",
       "  </tbody>\n",
       "</table>\n",
       "</div>"
      ],
      "text/plain": [
       "   trip_id        starttime         stoptime  bikeid  tripduration  \\\n",
       "0  9080545  3/31/2016 23:30  3/31/2016 23:46    2295           926   \n",
       "1  9080521  3/31/2016 22:59  3/31/2016 23:02    3439           198   \n",
       "2  9080479  3/31/2016 22:24  3/31/2016 22:26    4337           124   \n",
       "3  9080475  3/31/2016 22:22  3/31/2016 22:41    3760          1181   \n",
       "4  9080443  3/31/2016 22:08  3/31/2016 22:19    1270           656   \n",
       "\n",
       "   from_station_id               from_station_name  to_station_id  \\\n",
       "0              156       Clark St & Wellington Ave            166   \n",
       "1              259     California Ave & Francis Pl            276   \n",
       "2              344   Ravenswood Ave & Lawrence Ave            242   \n",
       "3              318  Southport Ave & Irving Park Rd            458   \n",
       "4              345         Lake Park Ave & 56th St            426   \n",
       "\n",
       "                to_station_name    usertype  gender  birthyear  \n",
       "0  Ashland Ave & Wrightwood Ave  Subscriber    Male     1990.0  \n",
       "1    California Ave & North Ave  Subscriber    Male     1974.0  \n",
       "2        Damen Ave & Leland Ave  Subscriber  Female     1992.0  \n",
       "3      Broadway & Thorndale Ave  Subscriber  Female     1979.0  \n",
       "4           Ellis Ave & 60th St  Subscriber  Female     1997.0  "
      ]
     },
     "execution_count": 5,
     "metadata": {},
     "output_type": "execute_result"
    }
   ],
   "source": [
    "chicago_data.head()"
   ]
  },
  {
   "cell_type": "code",
   "execution_count": 6,
   "metadata": {},
   "outputs": [
    {
     "data": {
      "text/html": [
       "<div>\n",
       "<style scoped>\n",
       "    .dataframe tbody tr th:only-of-type {\n",
       "        vertical-align: middle;\n",
       "    }\n",
       "\n",
       "    .dataframe tbody tr th {\n",
       "        vertical-align: top;\n",
       "    }\n",
       "\n",
       "    .dataframe thead th {\n",
       "        text-align: right;\n",
       "    }\n",
       "</style>\n",
       "<table border=\"1\" class=\"dataframe\">\n",
       "  <thead>\n",
       "    <tr style=\"text-align: right;\">\n",
       "      <th></th>\n",
       "      <th>Duration (ms)</th>\n",
       "      <th>Start date</th>\n",
       "      <th>End date</th>\n",
       "      <th>Start station number</th>\n",
       "      <th>Start station</th>\n",
       "      <th>End station number</th>\n",
       "      <th>End station</th>\n",
       "      <th>Bike number</th>\n",
       "      <th>Member Type</th>\n",
       "    </tr>\n",
       "  </thead>\n",
       "  <tbody>\n",
       "    <tr>\n",
       "      <th>0</th>\n",
       "      <td>427387</td>\n",
       "      <td>3/31/2016 22:57</td>\n",
       "      <td>3/31/2016 23:04</td>\n",
       "      <td>31602</td>\n",
       "      <td>Park Rd &amp; Holmead Pl NW</td>\n",
       "      <td>31207</td>\n",
       "      <td>Georgia Ave and Fairmont St NW</td>\n",
       "      <td>W20842</td>\n",
       "      <td>Registered</td>\n",
       "    </tr>\n",
       "    <tr>\n",
       "      <th>1</th>\n",
       "      <td>587551</td>\n",
       "      <td>3/31/2016 22:46</td>\n",
       "      <td>3/31/2016 22:56</td>\n",
       "      <td>31105</td>\n",
       "      <td>14th &amp; Harvard St NW</td>\n",
       "      <td>31266</td>\n",
       "      <td>11th &amp; M St NW</td>\n",
       "      <td>W21385</td>\n",
       "      <td>Registered</td>\n",
       "    </tr>\n",
       "    <tr>\n",
       "      <th>2</th>\n",
       "      <td>397979</td>\n",
       "      <td>3/31/2016 22:46</td>\n",
       "      <td>3/31/2016 22:53</td>\n",
       "      <td>31634</td>\n",
       "      <td>3rd &amp; Tingey St SE</td>\n",
       "      <td>31108</td>\n",
       "      <td>4th &amp; M St SW</td>\n",
       "      <td>W00773</td>\n",
       "      <td>Registered</td>\n",
       "    </tr>\n",
       "    <tr>\n",
       "      <th>3</th>\n",
       "      <td>444282</td>\n",
       "      <td>3/31/2016 22:42</td>\n",
       "      <td>3/31/2016 22:50</td>\n",
       "      <td>31200</td>\n",
       "      <td>Massachusetts Ave &amp; Dupont Circle NW</td>\n",
       "      <td>31201</td>\n",
       "      <td>15th &amp; P St NW</td>\n",
       "      <td>W21397</td>\n",
       "      <td>Registered</td>\n",
       "    </tr>\n",
       "    <tr>\n",
       "      <th>4</th>\n",
       "      <td>780875</td>\n",
       "      <td>3/31/2016 22:21</td>\n",
       "      <td>3/31/2016 22:34</td>\n",
       "      <td>31203</td>\n",
       "      <td>14th &amp; Rhode Island Ave NW</td>\n",
       "      <td>31604</td>\n",
       "      <td>3rd &amp; H St NW</td>\n",
       "      <td>W00213</td>\n",
       "      <td>Registered</td>\n",
       "    </tr>\n",
       "  </tbody>\n",
       "</table>\n",
       "</div>"
      ],
      "text/plain": [
       "   Duration (ms)       Start date         End date  Start station number  \\\n",
       "0         427387  3/31/2016 22:57  3/31/2016 23:04                 31602   \n",
       "1         587551  3/31/2016 22:46  3/31/2016 22:56                 31105   \n",
       "2         397979  3/31/2016 22:46  3/31/2016 22:53                 31634   \n",
       "3         444282  3/31/2016 22:42  3/31/2016 22:50                 31200   \n",
       "4         780875  3/31/2016 22:21  3/31/2016 22:34                 31203   \n",
       "\n",
       "                          Start station  End station number  \\\n",
       "0               Park Rd & Holmead Pl NW               31207   \n",
       "1                  14th & Harvard St NW               31266   \n",
       "2                    3rd & Tingey St SE               31108   \n",
       "3  Massachusetts Ave & Dupont Circle NW               31201   \n",
       "4            14th & Rhode Island Ave NW               31604   \n",
       "\n",
       "                      End station Bike number Member Type  \n",
       "0  Georgia Ave and Fairmont St NW      W20842  Registered  \n",
       "1                  11th & M St NW      W21385  Registered  \n",
       "2                   4th & M St SW      W00773  Registered  \n",
       "3                  15th & P St NW      W21397  Registered  \n",
       "4                   3rd & H St NW      W00213  Registered  "
      ]
     },
     "execution_count": 6,
     "metadata": {},
     "output_type": "execute_result"
    }
   ],
   "source": [
    "dc_data.head()"
   ]
  },
  {
   "cell_type": "markdown",
   "metadata": {},
   "source": [
    "## 1.2 Simulate UCB Strategy using past data"
   ]
  },
  {
   "cell_type": "code",
   "execution_count": 7,
   "metadata": {},
   "outputs": [],
   "source": [
    "ny_date = []\n",
    "for date in ny_data['starttime'].values:\n",
    "    dt = datetime.strptime(date, \"%m/%d/%Y %H:%M:%S\").date()\n",
    "    ny_date.append(dt)\n",
    "ny_data['date'] = ny_date\n",
    "\n",
    "chi_date = []\n",
    "for date in chicago_data['starttime'].values:\n",
    "    chi_date.append(datetime.strptime(date, \"%m/%d/%Y %H:%M\").date())\n",
    "chicago_data['date'] = chi_date\n",
    "\n",
    "dc_date = []\n",
    "for date in dc_data['Start date'].values:\n",
    "    dc_date.append(datetime.strptime(date, \"%m/%d/%Y %H:%M\").date())\n",
    "dc_data['date'] = dc_date"
   ]
  },
  {
   "cell_type": "code",
   "execution_count": 8,
   "metadata": {},
   "outputs": [],
   "source": [
    "df = ny_data.set_index('date')\n",
    "df_start = df[['start station id']]\n",
    "df_end = df[['end station id']]\n",
    "df_start['index'] = np.ones(len(df_start))\n",
    "df_end['index'] = np.ones(len(df_end))\n",
    "df_start = pd.pivot_table(df_start, values='index', index='date', columns = 'start station id', aggfunc='count')\n",
    "df_start = df_start.fillna(0)\n",
    "df_end = pd.pivot_table(df_end, values='index', index='date', columns = 'end station id', aggfunc='count')\n",
    "df_end = df_end.fillna(0)\n",
    "ny_df = df_start+df_end\n",
    "\n",
    "df = chicago_data.set_index('date')\n",
    "df_start = df[['from_station_id']]\n",
    "df_end = df[['to_station_id']]\n",
    "df_start['index'] = np.ones(len(df_start))\n",
    "df_end['index'] = np.ones(len(df_end))\n",
    "df_start = pd.pivot_table(df_start, values='index', index='date', columns = 'from_station_id', aggfunc='count')\n",
    "df_start = df_start.fillna(0)\n",
    "df_end = pd.pivot_table(df_end, values='index', index='date', columns = 'to_station_id', aggfunc='count')\n",
    "df_end = df_end.fillna(0)\n",
    "chi_df = df_start+df_end\n",
    "\n",
    "df = dc_data.set_index('date')\n",
    "df_start = df[['Start station number']]\n",
    "df_end = df[['End station number']]\n",
    "df_start['index'] = np.ones(len(df_start))\n",
    "df_end['index'] = np.ones(len(df_end))\n",
    "df_start = pd.pivot_table(df_start, values='index', index='date', columns = 'Start station number', aggfunc='count')\n",
    "df_start = df_start.fillna(0)\n",
    "df_end = pd.pivot_table(df_end, values='index', index='date', columns = 'End station number', aggfunc='count')\n",
    "df_end = df_end.fillna(0)\n",
    "dc_df = df_start+df_end"
   ]
  },
  {
   "cell_type": "code",
   "execution_count": 9,
   "metadata": {},
   "outputs": [],
   "source": [
    "top_cols = ny_df.sum(axis=0).nlargest(10).index.values\n",
    "ny_df = ny_df[top_cols]\n",
    "top_cols = chi_df.sum(axis=0).nlargest(10).index.values\n",
    "chi_df = chi_df[top_cols]\n",
    "top_cols = dc_df.sum(axis=0).nlargest(10).index.values\n",
    "dc_df = dc_df[top_cols]\n"
   ]
  },
  {
   "cell_type": "code",
   "execution_count": 10,
   "metadata": {},
   "outputs": [],
   "source": [
    "ny_means = ny_df.mean(axis=0).values\n",
    "chi_means = chi_df.mean(axis=0).values\n",
    "dc_means = dc_df.mean(axis=0).values"
   ]
  },
  {
   "cell_type": "code",
   "execution_count": 11,
   "metadata": {},
   "outputs": [],
   "source": [
    "ny_vars = ny_df.var(axis=0).values\n",
    "chi_vars = chi_df.var(axis=0).values\n",
    "dc_vars = dc_df.var(axis=0).values"
   ]
  },
  {
   "cell_type": "code",
   "execution_count": 70,
   "metadata": {
    "scrolled": false
   },
   "outputs": [],
   "source": [
    "dates = ny_df.index.values\n",
    "K = 10\n",
    "N = 362\n",
    "arms = ny_df.columns.values\n",
    "ucb_ny = {arms[0]:[], arms[1]:[], arms[2]:[], arms[3]:[], arms[4]:[], arms[5]:[], arms[6]:[], arms[7]:[], arms[8]:[], arms[9]:[]}\n",
    "T_ny = {arms[0]:0, arms[1]:0, arms[2]:0, arms[3]:0, arms[4]:0, arms[5]:0, arms[6]:0, arms[7]:0, arms[8]:0, arms[9]:0}\n",
    "rewards_ny = {arms[0]:[], arms[1]:[], arms[2]:[], arms[3]:[], arms[4]:[], arms[5]:[], arms[6]:[], arms[7]:[], arms[8]:[], arms[9]:[]}\n",
    "regret_ny = []\n",
    "\n",
    "for t in range(N):\n",
    "    if t < K:\n",
    "        arm = arms[t]\n",
    "        T_ny[arm] += 1\n",
    "        reward = ny_df.loc[dates[t], arm]\n",
    "        rewards_ny[arm].append(reward)\n",
    "    else:\n",
    "        arms_dict = {arms[0]:0, arms[1]:0, arms[2]:0, arms[3]:0, arms[4]:0, arms[5]:0, arms[6]:0, arms[7]:0, arms[8]:0, arms[9]:0}\n",
    "        for a in arms:\n",
    "            ucb = np.mean(rewards_ny[a]) + np.sqrt((3*np.log(t)) / (2*T_ny[a]))\n",
    "            arms_dict[a] = ucb\n",
    "            ucb_ny[a].append(ucb)\n",
    "        arm = max(arms_dict, key=arms_dict.get)\n",
    "        T_ny[arm] += 1\n",
    "        reward = ny_df.loc[dates[t], arm]\n",
    "        rewards_ny[arm].append(reward)\n",
    "        max_reward = np.max([np.mean(rewards_ny[a]) for a in arms])\n",
    "        regret_ny.append(np.sum(regret_ny) + max_reward - np.mean(rewards_ny[arm]))"
   ]
  },
  {
   "cell_type": "code",
   "execution_count": 71,
   "metadata": {},
   "outputs": [],
   "source": [
    "dates = chi_df.index.values\n",
    "K = 10\n",
    "N = 362\n",
    "arms = chi_df.columns.values\n",
    "T_chi = {arms[0]:0, arms[1]:0, arms[2]:0, arms[3]:0, arms[4]:0, arms[5]:0, arms[6]:0, arms[7]:0, arms[8]:0, arms[9]:0}\n",
    "ucb_chi = {arms[0]:[], arms[1]:[], arms[2]:[], arms[3]:[], arms[4]:[], arms[5]:[], arms[6]:[], arms[7]:[], arms[8]:[], arms[9]:[]}\n",
    "rewards_chi = {arms[0]:[], arms[1]:[], arms[2]:[], arms[3]:[], arms[4]:[], arms[5]:[], arms[6]:[], arms[7]:[], arms[8]:[], arms[9]:[]}\n",
    "regret_chi = []\n",
    "\n",
    "for t in range(N):\n",
    "    if t < K:\n",
    "        arm = arms[t]\n",
    "        T_chi[arm] += 1\n",
    "        reward = chi_df.loc[dates[t], arm]\n",
    "        rewards_chi[arm].append(reward)\n",
    "    else:\n",
    "        arms_dict = {arms[0]:0, arms[1]:0, arms[2]:0, arms[3]:0, arms[4]:0, arms[5]:0, arms[6]:0, arms[7]:0, arms[8]:0, arms[9]:0}\n",
    "        for a in arms:\n",
    "            ucb = np.mean(rewards_chi[a]) + np.sqrt((3*np.log(t)) / (2*T_chi[a]))\n",
    "            arms_dict[a] = ucb\n",
    "            ucb_chi[a].append(ucb)\n",
    "        arm = max(arms_dict, key=arms_dict.get)\n",
    "        T_chi[arm] += 1\n",
    "        reward = chi_df.loc[dates[t], arm]\n",
    "        rewards_chi[arm].append(reward)\n",
    "        max_reward = np.max([np.mean(rewards_chi[a]) for a in arms])\n",
    "        regret_chi.append(np.sum(regret_chi) + max_reward - np.mean(rewards_chi[arm]))"
   ]
  },
  {
   "cell_type": "code",
   "execution_count": 72,
   "metadata": {},
   "outputs": [],
   "source": [
    "dates = dc_df.index.values\n",
    "K = 10\n",
    "N = 362\n",
    "arms = dc_df.columns.values\n",
    "T_dc = {arms[0]:0, arms[1]:0, arms[2]:0, arms[3]:0, arms[4]:0, arms[5]:0, arms[6]:0, arms[7]:0, arms[8]:0, arms[9]:0}\n",
    "rewards_dc = {arms[0]:[], arms[1]:[], arms[2]:[], arms[3]:[], arms[4]:[], arms[5]:[], arms[6]:[], arms[7]:[], arms[8]:[], arms[9]:[]}\n",
    "ucb_dc = {arms[0]:[], arms[1]:[], arms[2]:[], arms[3]:[], arms[4]:[], arms[5]:[], arms[6]:[], arms[7]:[], arms[8]:[], arms[9]:[]}\n",
    "regret_dc = []\n",
    "\n",
    "for t in range(N):\n",
    "    if t < K:\n",
    "        arm = arms[t]\n",
    "        T_dc[arm] += 1\n",
    "        reward = dc_df.loc[dates[t], arm]\n",
    "        rewards_dc[arm].append(reward)\n",
    "    else:\n",
    "        arms_dict = {arms[0]:0, arms[1]:0, arms[2]:0, arms[3]:0, arms[4]:0, arms[5]:0, arms[6]:0, arms[7]:0, arms[8]:0, arms[9]:0}\n",
    "        for a in arms:\n",
    "            ucb = np.mean(rewards_dc[a]) + np.sqrt((3*np.log(t)) / (2*T_dc[a]))\n",
    "            arms_dict[a] = ucb\n",
    "            ucb_dc[a].append(ucb)\n",
    "        arm = max(arms_dict, key=arms_dict.get)\n",
    "        reward = dc_df.loc[dates[t], arm]\n",
    "        T_dc[arm] += 1\n",
    "        rewards_dc[arm].append(reward)\n",
    "        max_reward = np.max([np.mean(rewards_dc[a]) for a in arms])\n",
    "        regret_dc.append(np.sum(regret_dc) + max_reward - np.mean(rewards_dc[arm]))"
   ]
  },
  {
   "cell_type": "markdown",
   "metadata": {},
   "source": [
    "### 1.2.1 Implementation and Results"
   ]
  },
  {
   "cell_type": "markdown",
   "metadata": {},
   "source": [
    "My procedure is as follows: Every day, the recruiter will go to an intersection to flyer based on the number of riders. For the first K days, with K being the number of arms, the recruiter will explore by visiting each intersection once and collecting the rewards that follows a sub gaussian random variable. The instantiation of the rewards is observed already, so the associated parameters is the day and the station that is chose. After K days to N days, with N being the total number of days, the recruiter choose the intersection with the highest UCB. The procedure runs an algorithm to calculate a value for each arm, which includes the mean of the rewards for the arm, and chooses the arms with the highest value. The updated means will be reflected as rewards are added to each arm, which is kept track of in a dictionary. The key corresponds to the arm and the value corresponds to a list of rewards. The UCB is updated at each time step because the mean of rewards and values of T (the number of pulls for each arm) is updated."
   ]
  },
  {
   "cell_type": "code",
   "execution_count": 76,
   "metadata": {},
   "outputs": [
    {
     "data": {
      "text/plain": [
       "Text(0.5, 1.0, 'Regret Plot for DC Trips')"
      ]
     },
     "execution_count": 76,
     "metadata": {},
     "output_type": "execute_result"
    },
    {
     "data": {
      "image/png": "[encoded data removed]",
      "text/plain": [
       "<Figure size 1440x432 with 3 Axes>"
      ]
     },
     "metadata": {
      "needs_background": "light"
     },
     "output_type": "display_data"
    }
   ],
   "source": [
    "fig, (ax1, ax2, ax3) = plt.subplots(1, 3, figsize=(20,6))\n",
    "sns.lineplot(x=np.arange(352), y= regret_ny, label = 'New York', ax=ax1)\n",
    "sns.lineplot(x=np.arange(352), y= regret_chi, label = 'Chicago', ax=ax2)\n",
    "sns.lineplot(x=np.arange(352), y= regret_dc, label = 'DC', ax=ax3)\n",
    "\n",
    "ax1.set_xlabel('Day')\n",
    "ax2.set_xlabel('Day')\n",
    "ax3.set_xlabel('Day')\n",
    "ax1.set_ylabel('Regret')\n",
    "ax2.set_ylabel('Regret')\n",
    "ax3.set_ylabel('Regret')\n",
    "ax1.set_title('Regret Plot for New York Trips')\n",
    "ax2.set_title('Regret Plot for Chicago Trips')\n",
    "ax3.set_title('Regret Plot for DC Trips')"
   ]
  },
  {
   "cell_type": "markdown",
   "metadata": {},
   "source": [
    "*Note: Regret is scaled by log."
   ]
  },
  {
   "cell_type": "code",
   "execution_count": 16,
   "metadata": {},
   "outputs": [
    {
     "data": {
      "text/plain": [
       "Text(0.5, 1.0, 'Number of Pulls for DC Trips')"
      ]
     },
     "execution_count": 16,
     "metadata": {},
     "output_type": "execute_result"
    },
    {
     "data": {
      "image/png": "[encoded data removed]",
      "text/plain": [
       "<Figure size 1440x432 with 3 Axes>"
      ]
     },
     "metadata": {
      "needs_background": "light"
     },
     "output_type": "display_data"
    }
   ],
   "source": [
    "fig, (ax1, ax2, ax3) = plt.subplots(1, 3, figsize=(20,6))\n",
    "sns.barplot(np.round(ny_means, 2), list(T_ny.values()), label='New York', ax=ax1)\n",
    "sns.barplot(np.round(chi_means,2), list(T_chi.values()), label='Chicago',ax=ax2)\n",
    "sns.barplot(np.round(dc_means, 2), list(T_dc.values()), label='DC', ax=ax3)\n",
    "\n",
    "ax1.set_xlabel('True Mean')\n",
    "ax2.set_xlabel('True Mean')\n",
    "ax3.set_xlabel('True Mean')\n",
    "ax1.set_ylabel('Pulls')\n",
    "ax2.set_ylabel('Pulls')\n",
    "ax3.set_ylabel('Pulls')\n",
    "ax1.set_title('Number of Pulls for New York Trips')\n",
    "ax2.set_title('Number of Pulls for Chicago Trips')\n",
    "ax3.set_title('Number of Pulls for DC Trips')"
   ]
  },
  {
   "cell_type": "code",
   "execution_count": 17,
   "metadata": {},
   "outputs": [
    {
     "data": {
      "text/plain": [
       "Text(0.5, 1.0, 'Estimated mean of UCBs for DC Trips')"
      ]
     },
     "execution_count": 17,
     "metadata": {},
     "output_type": "execute_result"
    },
    {
     "data": {
      "image/png": "[encoded data removed]",
      "text/plain": [
       "<Figure size 1440x432 with 3 Axes>"
      ]
     },
     "metadata": {
      "needs_background": "light"
     },
     "output_type": "display_data"
    }
   ],
   "source": [
    "ucb_ny_means = [np.mean(ucb_ny[key]) for key in ucb_ny.keys()]\n",
    "ucb_chi_means = [np.mean(ucb_chi[key]) for key in ucb_chi.keys()]\n",
    "ucb_dc_means = [np.mean(ucb_dc[key]) for key in ucb_dc.keys()]\n",
    "\n",
    "fig, (ax1, ax2, ax3) = plt.subplots(1, 3, figsize=(20,6))\n",
    "sns.barplot(np.round(ny_means, 2), ucb_ny_means, label='New York', ax=ax1)\n",
    "sns.barplot(np.round(chi_means,2), ucb_chi_means, label='Chicago',ax=ax2)\n",
    "sns.barplot(np.round(dc_means, 2), ucb_dc_means, label='DC', ax=ax3)\n",
    "\n",
    "ax1.set_xlabel('True Mean of Arm')\n",
    "ax2.set_xlabel('True Mean of Arm')\n",
    "ax3.set_xlabel('True Mean of Arm')\n",
    "ax1.set_ylabel('Mean of UCBs')\n",
    "ax2.set_ylabel('Mean of UCBs')\n",
    "ax3.set_ylabel('Mean of UCBs')\n",
    "ax1.set_title('Estimated mean of UCBs for New York Trips')\n",
    "ax2.set_title('Estimated mean of UCBs for Chicago Trips')\n",
    "ax3.set_title('Estimated mean of UCBs for DC Trips')\n"
   ]
  },
  {
   "cell_type": "code",
   "execution_count": 18,
   "metadata": {},
   "outputs": [
    {
     "data": {
      "text/plain": [
       "Text(0.5, 1.0, 'Estimated Mean of Rewards for DC Trips')"
      ]
     },
     "execution_count": 18,
     "metadata": {},
     "output_type": "execute_result"
    },
    {
     "data": {
      "image/png": "[encoded data removed]",
      "text/plain": [
       "<Figure size 1440x432 with 3 Axes>"
      ]
     },
     "metadata": {
      "needs_background": "light"
     },
     "output_type": "display_data"
    }
   ],
   "source": [
    "rwd_ny_means = [np.mean(rewards_ny[key]) for key in rewards_ny.keys()]\n",
    "rwd_chi_means = [np.mean(rewards_chi[key]) for key in rewards_chi.keys()]\n",
    "rwd_dc_means = [np.mean(rewards_dc[key]) for key in rewards_dc.keys()]\n",
    "\n",
    "fig, (ax1, ax2, ax3) = plt.subplots(1, 3, figsize=(20,6))\n",
    "sns.barplot(np.round(ny_means, 2), np.round(rwd_ny_means, 2), label='New York', ax=ax1)\n",
    "sns.barplot(np.round(chi_means, 2), np.round(rwd_chi_means,2), label='Chicago',ax=ax2)\n",
    "sns.barplot(np.round(dc_means, 2), np.round(rwd_dc_means, 2), label='DC', ax=ax3)\n",
    "\n",
    "ax1.set_xlabel('True Mean of Arm')\n",
    "ax2.set_xlabel('True Mean of Arm')\n",
    "ax3.set_xlabel('True Mean of Arm')\n",
    "ax1.set_ylabel('Mean of Rewards')\n",
    "ax2.set_ylabel('Mean of Rewards')\n",
    "ax3.set_ylabel('Mean of Rewards')\n",
    "ax1.set_title('Estimated Mean of Rewards for New York Trips')\n",
    "ax2.set_title('Estimated Mean of Rewards for Chicago Trips')\n",
    "ax3.set_title('Estimated Mean of Rewards for DC Trips')"
   ]
  },
  {
   "cell_type": "markdown",
   "metadata": {},
   "source": [
    "### 1.2.2 Discussion"
   ]
  },
  {
   "cell_type": "markdown",
   "metadata": {},
   "source": [
    "The results of my simulation will change depending on which arms are pulled first because the values of T and the mean of rewards will change. However, the order should be random because the user should not know what the distributions of each arm looks like."
   ]
  },
  {
   "cell_type": "markdown",
   "metadata": {},
   "source": [
    "An adaptive strategy that could beat the no-regret strategy would be to first explore each intersection once and then from there, choose the one with the highest reward and send the recruiter to that intersection every day."
   ]
  },
  {
   "cell_type": "markdown",
   "metadata": {},
   "source": [
    "## 1.3 Takeaways"
   ]
  },
  {
   "cell_type": "markdown",
   "metadata": {},
   "source": [
    "The applicablity to the problem I presented in section 1.1 is valid because in the UCB simulation, I was able to find the intersection that was exploited after exploration. Therefore, from that, I would have an idea of where to send the recruiter to give out the most flyers to. However, the simulation is lacking in the sense that the alorgithm's definition of reward is different. The simulation takes riders as rewards, but my problem takes flyers as rewards, so that is an example where the simulation is lacking. "
   ]
  },
  {
   "cell_type": "markdown",
   "metadata": {},
   "source": [
    "There is a violation of assumption in the simulation where we take the observations as our sample, which is not randomly generated. The rewards should be randomly generated at each intersection where the recruiter will be able to explore and not use past observations. In addition, this shows that the rewards for each arm is not independent."
   ]
  },
  {
   "cell_type": "markdown",
   "metadata": {},
   "source": [
    "I would not recommend using the UCB alorigthm to place a recruiter to hand out flyers. Instead, I would use Thompson sampling where the probability that an intersection is optimal is given. From there, we will be able to choose the intersection with the highest probability and place the recruiter there to hand out flyers to promote the company. To support this recommendation, I would approximate the posterior distributions using methods like Gibbs sampling, Laplace approximate, and bootstraps, which we didn't do in the simulation."
   ]
  },
  {
   "cell_type": "markdown",
   "metadata": {},
   "source": [
    "# 2 Privacy Concerns"
   ]
  },
  {
   "cell_type": "code",
   "execution_count": 19,
   "metadata": {},
   "outputs": [],
   "source": [
    "url_leaked = 'https://raw.githubusercontent.com/ds-102/fa19/master/project/leaked.csv'\n",
    "url_berk = 'https://raw.githubusercontent.com/ds-102/fa19/master/project/berkeley.csv'\n",
    "leaked = pd.read_csv(url_leaked, error_bad_lines=False)\n",
    "berk = pd.read_csv(url_berk, error_bad_lines=False)"
   ]
  },
  {
   "cell_type": "code",
   "execution_count": 20,
   "metadata": {},
   "outputs": [
    {
     "data": {
      "text/html": [
       "<div>\n",
       "<style scoped>\n",
       "    .dataframe tbody tr th:only-of-type {\n",
       "        vertical-align: middle;\n",
       "    }\n",
       "\n",
       "    .dataframe tbody tr th {\n",
       "        vertical-align: top;\n",
       "    }\n",
       "\n",
       "    .dataframe thead th {\n",
       "        text-align: right;\n",
       "    }\n",
       "</style>\n",
       "<table border=\"1\" class=\"dataframe\">\n",
       "  <thead>\n",
       "    <tr style=\"text-align: right;\">\n",
       "      <th></th>\n",
       "      <th>name</th>\n",
       "      <th>sex</th>\n",
       "      <th>zip</th>\n",
       "      <th>month</th>\n",
       "      <th>year</th>\n",
       "    </tr>\n",
       "  </thead>\n",
       "  <tbody>\n",
       "    <tr>\n",
       "      <th>0</th>\n",
       "      <td>Avery Phillips</td>\n",
       "      <td>M</td>\n",
       "      <td>94709</td>\n",
       "      <td>3</td>\n",
       "      <td>1993</td>\n",
       "    </tr>\n",
       "    <tr>\n",
       "      <th>1</th>\n",
       "      <td>Grayson Rodriguez</td>\n",
       "      <td>M</td>\n",
       "      <td>94705</td>\n",
       "      <td>6</td>\n",
       "      <td>1998</td>\n",
       "    </tr>\n",
       "    <tr>\n",
       "      <th>2</th>\n",
       "      <td>Ethan Baker</td>\n",
       "      <td>M</td>\n",
       "      <td>94712</td>\n",
       "      <td>1</td>\n",
       "      <td>1998</td>\n",
       "    </tr>\n",
       "    <tr>\n",
       "      <th>3</th>\n",
       "      <td>Carter Wright</td>\n",
       "      <td>M</td>\n",
       "      <td>94720</td>\n",
       "      <td>7</td>\n",
       "      <td>1995</td>\n",
       "    </tr>\n",
       "    <tr>\n",
       "      <th>4</th>\n",
       "      <td>Elijah Young</td>\n",
       "      <td>M</td>\n",
       "      <td>94706</td>\n",
       "      <td>2</td>\n",
       "      <td>1996</td>\n",
       "    </tr>\n",
       "  </tbody>\n",
       "</table>\n",
       "</div>"
      ],
      "text/plain": [
       "                name sex    zip  month  year\n",
       "0     Avery Phillips   M  94709      3  1993\n",
       "1  Grayson Rodriguez   M  94705      6  1998\n",
       "2        Ethan Baker   M  94712      1  1998\n",
       "3      Carter Wright   M  94720      7  1995\n",
       "4       Elijah Young   M  94706      2  1996"
      ]
     },
     "execution_count": 20,
     "metadata": {},
     "output_type": "execute_result"
    }
   ],
   "source": [
    "leaked.head()"
   ]
  },
  {
   "cell_type": "code",
   "execution_count": 21,
   "metadata": {},
   "outputs": [
    {
     "data": {
      "text/html": [
       "<div>\n",
       "<style scoped>\n",
       "    .dataframe tbody tr th:only-of-type {\n",
       "        vertical-align: middle;\n",
       "    }\n",
       "\n",
       "    .dataframe tbody tr th {\n",
       "        vertical-align: top;\n",
       "    }\n",
       "\n",
       "    .dataframe thead th {\n",
       "        text-align: right;\n",
       "    }\n",
       "</style>\n",
       "<table border=\"1\" class=\"dataframe\">\n",
       "  <thead>\n",
       "    <tr style=\"text-align: right;\">\n",
       "      <th></th>\n",
       "      <th>sex</th>\n",
       "      <th>month</th>\n",
       "      <th>year</th>\n",
       "      <th>start</th>\n",
       "      <th>end</th>\n",
       "    </tr>\n",
       "  </thead>\n",
       "  <tbody>\n",
       "    <tr>\n",
       "      <th>0</th>\n",
       "      <td>M</td>\n",
       "      <td>12</td>\n",
       "      <td>1999</td>\n",
       "      <td>94704</td>\n",
       "      <td>94704</td>\n",
       "    </tr>\n",
       "    <tr>\n",
       "      <th>1</th>\n",
       "      <td>M</td>\n",
       "      <td>12</td>\n",
       "      <td>2000</td>\n",
       "      <td>94706</td>\n",
       "      <td>94706</td>\n",
       "    </tr>\n",
       "    <tr>\n",
       "      <th>2</th>\n",
       "      <td>M</td>\n",
       "      <td>4</td>\n",
       "      <td>1999</td>\n",
       "      <td>94703</td>\n",
       "      <td>94703</td>\n",
       "    </tr>\n",
       "    <tr>\n",
       "      <th>3</th>\n",
       "      <td>M</td>\n",
       "      <td>2</td>\n",
       "      <td>1999</td>\n",
       "      <td>94710</td>\n",
       "      <td>94710</td>\n",
       "    </tr>\n",
       "    <tr>\n",
       "      <th>4</th>\n",
       "      <td>M</td>\n",
       "      <td>12</td>\n",
       "      <td>1994</td>\n",
       "      <td>94707</td>\n",
       "      <td>94707</td>\n",
       "    </tr>\n",
       "  </tbody>\n",
       "</table>\n",
       "</div>"
      ],
      "text/plain": [
       "  sex  month  year  start    end\n",
       "0   M     12  1999  94704  94704\n",
       "1   M     12  2000  94706  94706\n",
       "2   M      4  1999  94703  94703\n",
       "3   M      2  1999  94710  94710\n",
       "4   M     12  1994  94707  94707"
      ]
     },
     "execution_count": 21,
     "metadata": {},
     "output_type": "execute_result"
    }
   ],
   "source": [
    "berk.head()"
   ]
  },
  {
   "cell_type": "code",
   "execution_count": 22,
   "metadata": {
    "scrolled": true
   },
   "outputs": [
    {
     "data": {
      "text/plain": [
       "Text(0.5, 1.0, 'Gender Distribution in Leaked Dataset')"
      ]
     },
     "execution_count": 22,
     "metadata": {},
     "output_type": "execute_result"
    },
    {
     "data": {
      "image/png": "[encoded data removed]",
      "text/plain": [
       "<Figure size 432x288 with 1 Axes>"
      ]
     },
     "metadata": {
      "needs_background": "light"
     },
     "output_type": "display_data"
    }
   ],
   "source": [
    "males = len(leaked[leaked['sex']=='M'])\n",
    "females = len(leaked[leaked['sex']=='F'])\n",
    "sns.barplot(['Male', 'Female'], [males, females])\n",
    "plt.ylabel('Count')\n",
    "plt.title('Gender Distribution in Leaked Dataset')"
   ]
  },
  {
   "cell_type": "code",
   "execution_count": 23,
   "metadata": {},
   "outputs": [
    {
     "data": {
      "text/plain": [
       "Text(0.5, 1.0, 'Birth Month Distribution')"
      ]
     },
     "execution_count": 23,
     "metadata": {},
     "output_type": "execute_result"
    },
    {
     "data": {
      "image/png": "[encoded data removed]",
      "text/plain": [
       "<Figure size 432x288 with 1 Axes>"
      ]
     },
     "metadata": {
      "needs_background": "light"
     },
     "output_type": "display_data"
    }
   ],
   "source": [
    "months = leaked.groupby('month').count().iloc[:, 0].values\n",
    "sns.barplot(np.arange(1, 13), months)\n",
    "plt.xlabel('Month')\n",
    "plt.ylabel('Count')\n",
    "plt.title('Birth Month Distribution')"
   ]
  },
  {
   "cell_type": "code",
   "execution_count": 24,
   "metadata": {},
   "outputs": [
    {
     "data": {
      "text/plain": [
       "Text(0.5, 1.0, 'Birth Year Distribution')"
      ]
     },
     "execution_count": 24,
     "metadata": {},
     "output_type": "execute_result"
    },
    {
     "data": {
      "image/png": "[encoded data removed]",
      "text/plain": [
       "<Figure size 432x288 with 1 Axes>"
      ]
     },
     "metadata": {
      "needs_background": "light"
     },
     "output_type": "display_data"
    }
   ],
   "source": [
    "yrs = leaked.groupby('year').count().iloc[:, 0].values\n",
    "sns.barplot(np.sort(leaked['year'].unique()), yrs)\n",
    "plt.xlabel('Year')\n",
    "plt.ylabel('Count')\n",
    "plt.title('Birth Year Distribution')"
   ]
  },
  {
   "cell_type": "markdown",
   "metadata": {},
   "source": [
    "### Description for distribution similaries/differences to part 1"
   ]
  },
  {
   "cell_type": "markdown",
   "metadata": {},
   "source": [
    "For the most part, the distributions of birth months and years are uniformly distributed, but are not similar to the distribution in part 1, which had a significant peak from the rest. However, the gender ratio is not uniform, but is similar to the distribtion in part 1. "
   ]
  },
  {
   "cell_type": "markdown",
   "metadata": {},
   "source": [
    "## 2.2 Simple Proof of Concept"
   ]
  },
  {
   "cell_type": "code",
   "execution_count": 25,
   "metadata": {},
   "outputs": [],
   "source": [
    "def unique_index(df, sex, month, year):\n",
    "    df = df[(df['sex']==sex) & (df['month']==month) & (df['year']==year)]\n",
    "    return df.index.values[0]"
   ]
  },
  {
   "cell_type": "code",
   "execution_count": 26,
   "metadata": {},
   "outputs": [],
   "source": [
    "def unique_df(df, sex, month, year):\n",
    "    df = df[(df['sex']==sex) & (df['month']==month) & (df['year']==year)]\n",
    "    if len(df) == 1:\n",
    "        return True\n",
    "    else:\n",
    "        return False"
   ]
  },
  {
   "cell_type": "code",
   "execution_count": 27,
   "metadata": {
    "scrolled": true
   },
   "outputs": [],
   "source": [
    "rows = []\n",
    "for s in ['M', 'F']:\n",
    "    for m in np.arange(1,13):\n",
    "        for y in np.arange(1990, 2001):\n",
    "            if unique_df(leaked, s, m, y):\n",
    "                rows.append(unique_index(leaked, s, m, y))"
   ]
  },
  {
   "cell_type": "code",
   "execution_count": 28,
   "metadata": {
    "scrolled": true
   },
   "outputs": [
    {
     "name": "stdout",
     "output_type": "stream",
     "text": [
      "We can unique identify 43 users.\n"
     ]
    }
   ],
   "source": [
    "iden_users = leaked.iloc[rows, :]\n",
    "print('We can unique identify', len(iden_users), 'users.')"
   ]
  },
  {
   "cell_type": "code",
   "execution_count": 29,
   "metadata": {},
   "outputs": [
    {
     "data": {
      "text/plain": [
       "Text(0.5, 1.0, 'Gender Distribution of Identifiable Users Dataset')"
      ]
     },
     "execution_count": 29,
     "metadata": {},
     "output_type": "execute_result"
    },
    {
     "data": {
      "image/png": "[encoded data removed]",
      "text/plain": [
       "<Figure size 432x288 with 1 Axes>"
      ]
     },
     "metadata": {
      "needs_background": "light"
     },
     "output_type": "display_data"
    }
   ],
   "source": [
    "iden_males = len(iden_users[iden_users['sex']=='M'])\n",
    "iden_females = len(iden_users[iden_users['sex']=='F'])\n",
    "sns.barplot(['Male', 'Female'], [iden_males, iden_females])\n",
    "plt.ylabel('Count')\n",
    "plt.title('Gender Distribution of Identifiable Users Dataset')"
   ]
  },
  {
   "cell_type": "markdown",
   "metadata": {},
   "source": [
    "### Description"
   ]
  },
  {
   "cell_type": "markdown",
   "metadata": {},
   "source": [
    "The gender distribution of identifiable users is predominantly female; this is opposite of what we saw in 2.1, which was predominantly male. There are more females that are identifiable users based on birth month, year, and gender because our original dataset had more males, which lowers the probability of a male having a unique birth month and year from the rest."
   ]
  },
  {
   "cell_type": "code",
   "execution_count": 30,
   "metadata": {},
   "outputs": [
    {
     "data": {
      "text/plain": [
       "Text(0.5, 1.0, 'Birth Month Distribution in Identifiable Users Dataset')"
      ]
     },
     "execution_count": 30,
     "metadata": {},
     "output_type": "execute_result"
    },
    {
     "data": {
      "image/png": "[encoded data removed]",
      "text/plain": [
       "<Figure size 432x288 with 1 Axes>"
      ]
     },
     "metadata": {
      "needs_background": "light"
     },
     "output_type": "display_data"
    }
   ],
   "source": [
    "months = iden_users.groupby('month').count().iloc[:, 0].values\n",
    "sns.barplot(np.arange(1, 13), months)\n",
    "plt.xlabel('Month')\n",
    "plt.ylabel('Count')\n",
    "plt.title('Birth Month Distribution in Identifiable Users Dataset')"
   ]
  },
  {
   "cell_type": "markdown",
   "metadata": {},
   "source": [
    "The birth month distribution in the identifiable users dataset is not uniform and does not match the distribution in the original dataset. The reason is because a birth month will only appear in the new dataset if it is a unique row based on gender and birth year."
   ]
  },
  {
   "cell_type": "code",
   "execution_count": 31,
   "metadata": {},
   "outputs": [
    {
     "data": {
      "text/html": [
       "<div>\n",
       "<style scoped>\n",
       "    .dataframe tbody tr th:only-of-type {\n",
       "        vertical-align: middle;\n",
       "    }\n",
       "\n",
       "    .dataframe tbody tr th {\n",
       "        vertical-align: top;\n",
       "    }\n",
       "\n",
       "    .dataframe thead th {\n",
       "        text-align: right;\n",
       "    }\n",
       "</style>\n",
       "<table border=\"1\" class=\"dataframe\">\n",
       "  <thead>\n",
       "    <tr style=\"text-align: right;\">\n",
       "      <th></th>\n",
       "      <th>num_rentals</th>\n",
       "    </tr>\n",
       "    <tr>\n",
       "      <th>name</th>\n",
       "      <th></th>\n",
       "    </tr>\n",
       "  </thead>\n",
       "  <tbody>\n",
       "    <tr>\n",
       "      <th>Abigail Campbell</th>\n",
       "      <td>90</td>\n",
       "    </tr>\n",
       "    <tr>\n",
       "      <th>Abigail Carter</th>\n",
       "      <td>79</td>\n",
       "    </tr>\n",
       "    <tr>\n",
       "      <th>Abigail King</th>\n",
       "      <td>15</td>\n",
       "    </tr>\n",
       "    <tr>\n",
       "      <th>Amelia Clark</th>\n",
       "      <td>62</td>\n",
       "    </tr>\n",
       "    <tr>\n",
       "      <th>Amelia Lopez</th>\n",
       "      <td>69</td>\n",
       "    </tr>\n",
       "  </tbody>\n",
       "</table>\n",
       "</div>"
      ],
      "text/plain": [
       "                  num_rentals\n",
       "name                         \n",
       "Abigail Campbell           90\n",
       "Abigail Carter             79\n",
       "Abigail King               15\n",
       "Amelia Clark               62\n",
       "Amelia Lopez               69"
      ]
     },
     "execution_count": 31,
     "metadata": {},
     "output_type": "execute_result"
    }
   ],
   "source": [
    "def script(df, df1):\n",
    "    merged_df = pd.merge(df, df1, on=['sex', 'month', 'year'], how='outer').dropna()\n",
    "    grouped = merged_df.groupby('name').count()\n",
    "    return grouped[['sex']].rename(columns={'sex': 'num_rentals'})\n",
    "grouped_df = script(berk, iden_users)\n",
    "grouped_df.head()"
   ]
  },
  {
   "cell_type": "markdown",
   "metadata": {},
   "source": [
    "### Description of Script"
   ]
  },
  {
   "cell_type": "markdown",
   "metadata": {},
   "source": [
    "This script takes 2 dataframes, the scooter rental and identifiable users dataset, and returns a dataframe with names and their number of rentals. It does so by using an outer join on the sex, month, and year column, grouping by name, and aggregating by the count."
   ]
  },
  {
   "cell_type": "markdown",
   "metadata": {},
   "source": [
    "## 2.3 A More Elaborate Attack"
   ]
  },
  {
   "cell_type": "code",
   "execution_count": 32,
   "metadata": {},
   "outputs": [],
   "source": [
    "merged_df = pd.merge(berk, iden_users, on=['sex', 'month', 'year'], how='outer').dropna()\n",
    "merged_df['zip'] = merged_df['zip'].astype(int).values\n",
    "start = merged_df[merged_df['start'] != merged_df['zip']]\n",
    "end = merged_df[merged_df['end'] != merged_df['zip']]\n",
    "\n",
    "start = start.groupby('name').count()\n",
    "start = start[['sex']].rename(columns={'sex': 'num_rentals'})\n",
    "end = end.groupby('name').count()\n",
    "end = end[['sex']].rename(columns={'sex': 'num_rentals'})\n",
    "\n",
    "x1 = start['num_rentals'].values\n",
    "x2 = end['num_rentals'].values"
   ]
  },
  {
   "cell_type": "code",
   "execution_count": 33,
   "metadata": {},
   "outputs": [
    {
     "name": "stdout",
     "output_type": "stream",
     "text": [
      "Estimated proportion of users who start their trip from a different zip code:  0.097\n",
      "Estimated proportion of users who start their trip from a different zip code:  0.278\n"
     ]
    }
   ],
   "source": [
    "p1 = np.sum(x1) / len(merged_df)\n",
    "p2 = np.sum(x2) / len(merged_df)\n",
    "print('Estimated proportion of users who start their trip from a different zip code: ', np.round(p1,3))\n",
    "print('Estimated proportion of users who start their trip from a different zip code: ', np.round(p2,3))"
   ]
  },
  {
   "cell_type": "markdown",
   "metadata": {},
   "source": [
    "### Description of Parameter Estimation"
   ]
  },
  {
   "cell_type": "markdown",
   "metadata": {},
   "source": [
    "For p1, I took the number of trips that started in a different zip code from a user's address zip code over all trips.\n",
    "For p2, I did the same thing, but for the number of trips that ended in a different zip code."
   ]
  },
  {
   "cell_type": "code",
   "execution_count": 34,
   "metadata": {},
   "outputs": [],
   "source": [
    "p1_lower, p1_upper = proportion_confint(np.sum(x1), len(merged_df), alpha=0.05, method='normal')\n",
    "p2_lower, p2_upper = proportion_confint(np.sum(x2), len(merged_df), alpha=0.05, method='normal')"
   ]
  },
  {
   "cell_type": "code",
   "execution_count": 35,
   "metadata": {},
   "outputs": [
    {
     "name": "stdout",
     "output_type": "stream",
     "text": [
      "95% Confidence Interval for P1:  (0.08426845228803953, 0.1089288266235251)\n",
      "95% Confidence Interval for P2:  (0.2593047348191409, 0.29670433547564373)\n"
     ]
    }
   ],
   "source": [
    "print('95% Confidence Interval for P1: ', (p1_lower, p1_upper))\n",
    "print('95% Confidence Interval for P2: ', (p2_lower, p2_upper))"
   ]
  },
  {
   "cell_type": "markdown",
   "metadata": {},
   "source": [
    "### Description of Confidence Interval Method"
   ]
  },
  {
   "cell_type": "markdown",
   "metadata": {},
   "source": [
    "Using the proportion_confint function from the statsmodels library, I generated the 95% confidence intervals by inputting my proportion estimates and alpha level 0.05."
   ]
  },
  {
   "cell_type": "code",
   "execution_count": 36,
   "metadata": {},
   "outputs": [
    {
     "data": {
      "text/plain": [
       "array([94709, 94705, 94712, 94720, 94706, 94708, 94704, 94702, 94701,\n",
       "       94707, 94710, 94703])"
      ]
     },
     "execution_count": 36,
     "metadata": {},
     "output_type": "execute_result"
    }
   ],
   "source": [
    "leaked['zip'].unique()"
   ]
  },
  {
   "cell_type": "code",
   "execution_count": 37,
   "metadata": {},
   "outputs": [],
   "source": [
    "def unique_index_1(df, z, sex, month, year):\n",
    "    df = df[(df['sex']==sex) & (df['month']==month) & (df['year']==year) & (df['zip']==z)]\n",
    "    return df.index.values[0]\n",
    "def unique_df_1(df, z, sex, month, year):\n",
    "    df = df[(df['sex']==sex) & (df['month']==month) & (df['year']==year) & (df['zip']==z)]\n",
    "    if len(df) == 1:\n",
    "        return True\n",
    "    else:\n",
    "        return False"
   ]
  },
  {
   "cell_type": "code",
   "execution_count": 38,
   "metadata": {},
   "outputs": [],
   "source": [
    "rows = []\n",
    "for s in ['M', 'F']:\n",
    "    for m in np.arange(1,13):\n",
    "        for y in np.arange(1990, 2001):\n",
    "            for z in leaked['zip'].unique():\n",
    "                if unique_df_1(leaked, z, s, m, y):\n",
    "                    rows.append(unique_index_1(leaked, z, s, m, y))\n",
    "t_iden_users = leaked.iloc[rows, :]"
   ]
  },
  {
   "cell_type": "code",
   "execution_count": 39,
   "metadata": {},
   "outputs": [
    {
     "name": "stdout",
     "output_type": "stream",
     "text": [
      "There are 720 theoretically identifiable users.\n"
     ]
    }
   ],
   "source": [
    "print('There are', len(t_iden_users), 'theoretically identifiable users.')"
   ]
  },
  {
   "cell_type": "code",
   "execution_count": 40,
   "metadata": {},
   "outputs": [],
   "source": [
    "df = pd.merge(berk, t_iden_users, on=['sex', 'month', 'year'], how='outer').dropna()"
   ]
  },
  {
   "cell_type": "code",
   "execution_count": 41,
   "metadata": {},
   "outputs": [
    {
     "data": {
      "text/html": [
       "<div>\n",
       "<style scoped>\n",
       "    .dataframe tbody tr th:only-of-type {\n",
       "        vertical-align: middle;\n",
       "    }\n",
       "\n",
       "    .dataframe tbody tr th {\n",
       "        vertical-align: top;\n",
       "    }\n",
       "\n",
       "    .dataframe thead th {\n",
       "        text-align: right;\n",
       "    }\n",
       "</style>\n",
       "<table border=\"1\" class=\"dataframe\">\n",
       "  <thead>\n",
       "    <tr style=\"text-align: right;\">\n",
       "      <th></th>\n",
       "      <th>sex</th>\n",
       "      <th>month</th>\n",
       "      <th>year</th>\n",
       "      <th>start</th>\n",
       "      <th>end</th>\n",
       "      <th>name</th>\n",
       "      <th>zip</th>\n",
       "    </tr>\n",
       "  </thead>\n",
       "  <tbody>\n",
       "    <tr>\n",
       "      <th>0</th>\n",
       "      <td>M</td>\n",
       "      <td>12</td>\n",
       "      <td>1999</td>\n",
       "      <td>94704</td>\n",
       "      <td>94704</td>\n",
       "      <td>Aiden Miller</td>\n",
       "      <td>94712.0</td>\n",
       "    </tr>\n",
       "    <tr>\n",
       "      <th>1</th>\n",
       "      <td>M</td>\n",
       "      <td>12</td>\n",
       "      <td>1999</td>\n",
       "      <td>94704</td>\n",
       "      <td>94704</td>\n",
       "      <td>Joseph Williams</td>\n",
       "      <td>94704.0</td>\n",
       "    </tr>\n",
       "    <tr>\n",
       "      <th>2</th>\n",
       "      <td>M</td>\n",
       "      <td>12</td>\n",
       "      <td>1999</td>\n",
       "      <td>94704</td>\n",
       "      <td>94704</td>\n",
       "      <td>Dylan Harris</td>\n",
       "      <td>94707.0</td>\n",
       "    </tr>\n",
       "    <tr>\n",
       "      <th>3</th>\n",
       "      <td>M</td>\n",
       "      <td>12</td>\n",
       "      <td>1999</td>\n",
       "      <td>94709</td>\n",
       "      <td>94704</td>\n",
       "      <td>Aiden Miller</td>\n",
       "      <td>94712.0</td>\n",
       "    </tr>\n",
       "    <tr>\n",
       "      <th>4</th>\n",
       "      <td>M</td>\n",
       "      <td>12</td>\n",
       "      <td>1999</td>\n",
       "      <td>94709</td>\n",
       "      <td>94704</td>\n",
       "      <td>Joseph Williams</td>\n",
       "      <td>94704.0</td>\n",
       "    </tr>\n",
       "  </tbody>\n",
       "</table>\n",
       "</div>"
      ],
      "text/plain": [
       "  sex  month  year  start    end             name      zip\n",
       "0   M     12  1999  94704  94704     Aiden Miller  94712.0\n",
       "1   M     12  1999  94704  94704  Joseph Williams  94704.0\n",
       "2   M     12  1999  94704  94704     Dylan Harris  94707.0\n",
       "3   M     12  1999  94709  94704     Aiden Miller  94712.0\n",
       "4   M     12  1999  94709  94704  Joseph Williams  94704.0"
      ]
     },
     "execution_count": 41,
     "metadata": {},
     "output_type": "execute_result"
    }
   ],
   "source": [
    "df.head()"
   ]
  },
  {
   "cell_type": "code",
   "execution_count": 42,
   "metadata": {},
   "outputs": [],
   "source": [
    "grouped_trips = df.groupby(['sex', 'month', 'year', 'start', 'end']).aggregate(lambda tdf: tdf.unique().tolist())\n"
   ]
  },
  {
   "cell_type": "code",
   "execution_count": 43,
   "metadata": {},
   "outputs": [],
   "source": [
    "def find_user_by_trip(sex, month, year, start, end):\n",
    "    row = grouped_trips.loc[[(sex, month, year, start, end)]]\n",
    "    if len(row['name'].values[0]) == 1:\n",
    "        return row['name'].values[0][0]\n",
    "    else:\n",
    "        return random.choice(row['name'].values[0])"
   ]
  },
  {
   "cell_type": "code",
   "execution_count": 44,
   "metadata": {
    "scrolled": true
   },
   "outputs": [
    {
     "data": {
      "text/plain": [
       "'Jacob Harris'"
      ]
     },
     "execution_count": 44,
     "metadata": {},
     "output_type": "execute_result"
    }
   ],
   "source": [
    "find_user_by_trip('M', 12, 2000, 94706, 94704)"
   ]
  },
  {
   "cell_type": "markdown",
   "metadata": {},
   "source": [
    "### Description of Algorithm"
   ]
  },
  {
   "cell_type": "markdown",
   "metadata": {},
   "source": [
    "Before my algorithm, I grouped the trips since there are multiple trips with the same features. This grouped dataframe will have the names of the most likely users in a list. My find most likely user function takes in the specified trip features, finds the row from the grouped dataframe, and return the most likely user. If there are multiple users, it randomly returns one of the users using python's random choice function."
   ]
  },
  {
   "cell_type": "markdown",
   "metadata": {},
   "source": [
    "## 2.4 Takeaways"
   ]
  },
  {
   "cell_type": "markdown",
   "metadata": {},
   "source": [
    "I found that for a dataset, for a given column, the value with a smaller proportion will have a higher proportion in an identifiable dataset, as observed in the gender distribution plots. For uniform distributions in the dataset, the distribution is most likely not going to be uniform from the identifiable dataset. Lastly, I found that the more features there are in a dataset, the more users you can identify from that dataset."
   ]
  },
  {
   "cell_type": "markdown",
   "metadata": {},
   "source": [
    "For the already released dataset, I would randomly shuffle the gender column to slightly confuse the result of identifying a user. This would still keep the proportions the same if we were interested in looking at the distribution."
   ]
  },
  {
   "cell_type": "markdown",
   "metadata": {},
   "source": [
    "For future datasets, I would recommend the company to achieve k-anonyminity, meaning for a trip in the dataset, make sure that is there at least k users who can be identified from that trip. In the released dataset, there are many trips that match to one user, making it easy to be identified."
   ]
  },
  {
   "cell_type": "code",
   "execution_count": null,
   "metadata": {},
   "outputs": [],
   "source": []
  }
 ],
 "metadata": {
  "kernelspec": {
   "display_name": "Python 3",
   "language": "python",
   "name": "python3"
  },
  "language_info": {
   "codemirror_mode": {
    "name": "ipython",
    "version": 3
   },
   "file_extension": ".py",
   "mimetype": "text/x-python",
   "name": "python",
   "nbconvert_exporter": "python",
   "pygments_lexer": "ipython3",
   "version": "3.7.3"
  }
 },
 "nbformat": 4,
 "nbformat_minor": 2
}
